{
 "cells": [
  {
   "cell_type": "code",
   "execution_count": 3,
   "metadata": {
    "colab": {
     "base_uri": "https://localhost:8080/"
    },
    "id": "A4_2n3iX4wy4",
    "outputId": "4f8f3d22-ef36-4d7e-cc94-ef3d23fec028"
   },
   "outputs": [
    {
     "name": "stdout",
     "output_type": "stream",
     "text": [
      "Looking in indexes: https://pypi.org/simple, https://us-python.pkg.dev/colab-wheels/public/simple/\n",
      "Requirement already satisfied: rouge in /usr/local/lib/python3.7/dist-packages (1.0.1)\n",
      "Requirement already satisfied: six in /usr/local/lib/python3.7/dist-packages (from rouge) (1.15.0)\n",
      "Looking in indexes: https://pypi.org/simple, https://us-python.pkg.dev/colab-wheels/public/simple/\n",
      "Collecting rouge_score\n",
      "  Downloading rouge_score-0.1.2.tar.gz (17 kB)\n",
      "Requirement already satisfied: absl-py in /usr/local/lib/python3.7/dist-packages (from rouge_score) (1.2.0)\n",
      "Requirement already satisfied: nltk in /usr/local/lib/python3.7/dist-packages (from rouge_score) (3.7)\n",
      "Requirement already satisfied: numpy in /usr/local/lib/python3.7/dist-packages (from rouge_score) (1.21.6)\n",
      "Requirement already satisfied: six>=1.14.0 in /usr/local/lib/python3.7/dist-packages (from rouge_score) (1.15.0)\n",
      "Requirement already satisfied: regex>=2021.8.3 in /usr/local/lib/python3.7/dist-packages (from nltk->rouge_score) (2022.6.2)\n",
      "Requirement already satisfied: tqdm in /usr/local/lib/python3.7/dist-packages (from nltk->rouge_score) (4.64.0)\n",
      "Requirement already satisfied: joblib in /usr/local/lib/python3.7/dist-packages (from nltk->rouge_score) (1.1.0)\n",
      "Requirement already satisfied: click in /usr/local/lib/python3.7/dist-packages (from nltk->rouge_score) (7.1.2)\n",
      "Building wheels for collected packages: rouge-score\n",
      "  Building wheel for rouge-score (setup.py) ... \u001b[?25l\u001b[?25hdone\n",
      "  Created wheel for rouge-score: filename=rouge_score-0.1.2-py3-none-any.whl size=24955 sha256=814d0854911e679596f9bec0d4e48e5071097f02c43c5ef6ef41bc25523277d1\n",
      "  Stored in directory: /root/.cache/pip/wheels/84/ac/6b/38096e3c5bf1dc87911e3585875e21a3ac610348e740409c76\n",
      "Successfully built rouge-score\n",
      "Installing collected packages: rouge-score\n",
      "Successfully installed rouge-score-0.1.2\n"
     ]
    }
   ],
   "source": [
    "!pip install rouge_score"
   ]
  },
  {
   "cell_type": "code",
   "execution_count": 42,
   "metadata": {
    "id": "ducm3Ftr4fXp"
   },
   "outputs": [],
   "source": [
    "from rouge_score import rouge_scorer\n",
    "import language_tool_python\n",
    "import pandas as pd\n",
    "from sklearn.feature_extraction.text import CountVectorizer\n",
    "\n",
    "n_gram_range = (1, 1) # (1,1): keyword, (3,3): each keyprase has 3 words\n",
    "stop_words = \"english\"\n",
    "\n",
    "df = pd.read_csv('predictions.csv')\n",
    "df.columns\n",
    "\n",
    "hyp = list(df['Generated Text'])\n",
    "ref = list(df['Actual Text'])\n",
    "\n",
    "# print(hyp)\n",
    "# print(ref)\n",
    "\n",
    "# # make a RougeScorer object with rouge_types=['rouge1']\n",
    "scorer = rouge_scorer.RougeScorer(['rouge1'])\n",
    "\n",
    "# # a dictionary that will contain the results\n",
    "results = {'precision': [], 'recall': [], 'fmeasure': [], 'grammar': []}\n",
    "\n",
    "tool = language_tool_python.LanguageTool('en-US')\n",
    "\n",
    "# # for each of the hypothesis and reference documents pair\n",
    "for (h, r) in zip(hyp, ref):\n",
    "    # computing the ROUGE\n",
    "    try:\n",
    "      score = scorer.score(h, r)\n",
    "      # separating the measurements\n",
    "      precision, recall, fmeasure = score['rouge1']\n",
    "      # add them to the proper list in the dictionary\n",
    "      results['precision'].append(precision)\n",
    "      results['recall'].append(recall)\n",
    "      results['fmeasure'].append(fmeasure)\n",
    "      results['grammar'].append(len(tool.check(h)))\n",
    "    except:\n",
    "      pass"
   ]
  },
  {
   "cell_type": "code",
   "execution_count": 37,
   "metadata": {
    "id": "mXFlaHWF6vQf"
   },
   "outputs": [],
   "source": [
    "import matplotlib.pyplot as plt\n",
    "import numpy\n",
    "\n",
    "def analyze_data(name):\n",
    "  plt.hist(results[name], density=False, bins=30)  # density=False would make counts\n",
    "  plt.ylabel('count')\n",
    "  plt.xlabel(name);\n",
    "  plt.title(name)\n",
    "  plt.show()\n",
    "  print('min:', numpy.min(results[name]))\n",
    "  print('max:', numpy.max(results[name]))\n",
    "  print('std:', numpy.std(results[name]))\n",
    "  print('mean:', numpy.mean(results[name]))\n",
    "  print('median:', numpy.median(results[name]))"
   ]
  },
  {
   "cell_type": "code",
   "execution_count": 38,
   "metadata": {
    "colab": {
     "base_uri": "https://localhost:8080/",
     "height": 386
    },
    "id": "7vTKWLwG8NeF",
    "outputId": "d3a0ea4d-b92e-4deb-ec3a-0920128861d8"
   },
   "outputs": [
    {
     "data": {
      "image/png": "[encoded data removed]",
      "text/plain": [
       "<Figure size 432x288 with 1 Axes>"
      ]
     },
     "metadata": {
      "needs_background": "light"
     },
     "output_type": "display_data"
    },
    {
     "name": "stdout",
     "output_type": "stream",
     "text": [
      "min: 0.0\n",
      "max: 0.8888888888888888\n",
      "std: 0.1387371995880537\n",
      "mean: 0.2819864495271692\n",
      "median: 0.25961538461538464\n"
     ]
    }
   ],
   "source": [
    "analyze_data('precision')"
   ]
  },
  {
   "cell_type": "code",
   "execution_count": 39,
   "metadata": {
    "colab": {
     "base_uri": "https://localhost:8080/",
     "height": 386
    },
    "id": "CyiGWn6X8X51",
    "outputId": "a0294540-cd68-4827-df7d-26245fd9fb5c"
   },
   "outputs": [
    {
     "data": {
      "image/png": "[encoded data removed]",
      "text/plain": [
       "<Figure size 432x288 with 1 Axes>"
      ]
     },
     "metadata": {
      "needs_background": "light"
     },
     "output_type": "display_data"
    },
    {
     "name": "stdout",
     "output_type": "stream",
     "text": [
      "min: 0.0\n",
      "max: 1.0\n",
      "std: 0.16960901982019008\n",
      "mean: 0.42407007515503087\n",
      "median: 0.4166666666666667\n"
     ]
    }
   ],
   "source": [
    "analyze_data('recall')"
   ]
  },
  {
   "cell_type": "code",
   "execution_count": 40,
   "metadata": {
    "colab": {
     "base_uri": "https://localhost:8080/",
     "height": 386
    },
    "id": "iD4VXx3J8bUk",
    "outputId": "d4894aba-6e79-4812-b6f3-3ef6e2131407"
   },
   "outputs": [
    {
     "data": {
      "image/png": "[encoded data removed]",
      "text/plain": [
       "<Figure size 432x288 with 1 Axes>"
      ]
     },
     "metadata": {
      "needs_background": "light"
     },
     "output_type": "display_data"
    },
    {
     "name": "stdout",
     "output_type": "stream",
     "text": [
      "min: 0.0\n",
      "max: 0.9142857142857143\n",
      "std: 0.12129762971594003\n",
      "mean: 0.3133907501891679\n",
      "median: 0.3\n"
     ]
    }
   ],
   "source": [
    "analyze_data('fmeasure')"
   ]
  },
  {
   "cell_type": "code",
   "execution_count": 43,
   "metadata": {
    "colab": {
     "base_uri": "https://localhost:8080/",
     "height": 386
    },
    "id": "P9i_PQjqHfLM",
    "outputId": "e762cf76-f962-452f-b7ec-ef209479ea78"
   },
   "outputs": [
    {
     "data": {
      "image/png": "[encoded data removed]",
      "text/plain": [
       "<Figure size 432x288 with 1 Axes>"
      ]
     },
     "metadata": {
      "needs_background": "light"
     },
     "output_type": "display_data"
    },
    {
     "name": "stdout",
     "output_type": "stream",
     "text": [
      "min: 0\n",
      "max: 7\n",
      "std: 0.7041145788620008\n",
      "mean: 1.249374478732277\n",
      "median: 1.0\n"
     ]
    }
   ],
   "source": [
    "analyze_data('grammar')"
   ]
  }
 ],
 "metadata": {
  "colab": {
   "name": "AI model evaluation.ipynb",
   "provenance": []
  },
  "kernelspec": {
   "display_name": "Python 3",
   "language": "python",
   "name": "python3"
  },
  "language_info": {
   "codemirror_mode": {
    "name": "ipython",
    "version": 3
   },
   "file_extension": ".py",
   "mimetype": "text/x-python",
   "name": "python",
   "nbconvert_exporter": "python",
   "pygments_lexer": "ipython3",
   "version": "3.6.10"
  }
 },
 "nbformat": 4,
 "nbformat_minor": 1
}
